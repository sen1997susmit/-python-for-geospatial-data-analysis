{
 "cells": [
  {
   "cell_type": "markdown",
   "metadata": {},
   "source": [
    "# Chapter 1 - Session 2\n",
    "\n",
    "# Built-in Data Structures (Combinations of Variables)\n",
    "\n",
    "## Objectives\n",
    "#### learn how to use combinations of fundamental variables that we learn in last session, like list of names, list of numbers, etc.\n",
    "\n",
    "## Content\n",
    "#### 1) Lists\n",
    "#### 2) Tuples\n",
    "#### 3) Dictionaries"
   ]
  },
  {
   "cell_type": "markdown",
   "metadata": {},
   "source": [
    "<hr>"
   ]
  },
  {
   "cell_type": "markdown",
   "metadata": {},
   "source": [
    "# 1) Lists\n",
    "\n",
    "as implies by name, lists are used to represent list of things such as names of student in the class, all integers between 0 and 10, provinces in a country\n",
    "\n",
    "a list can contain a mixture of different data types too\n",
    "\n",
    "and once we have a list we should be able to perform some operations on that such as,\n",
    "    - getting length\n",
    "    - accessing the element\n",
    "    - editing the list\n",
    "    - reversing and sorting\n",
    "    - check element available or not\n"
   ]
  },
  {
   "cell_type": "code",
   "execution_count": 32,
   "metadata": {},
   "outputs": [
    {
     "name": "stdout",
     "output_type": "stream",
     "text": [
      "<class 'list'>\n",
      "[1, 2, 3, 4, 5, 6, 7, 8, 9, 10]\n",
      "['Laos', 'Thailand', 'Cambodia']\n",
      "[1, 2, 3.5, 'string', True, 6, 7]\n"
     ]
    }
   ],
   "source": [
    "mylist1 = [1, 2, 3, 4, 5, 6, 7, 8, 9, 10]\n",
    "mylist2 = [\"Laos\", \"Thailand\", \"Cambodia\"]\n",
    "mylist3 = [1, 2, 3.5, \"string\", True, 6, 7]\n",
    "\n",
    "print(type(mylist1))\n",
    "\n",
    "print(mylist1)\n",
    "print(mylist2)\n",
    "print(mylist3)"
   ]
  },
  {
   "cell_type": "code",
   "execution_count": 51,
   "metadata": {},
   "outputs": [
    {
     "name": "stdout",
     "output_type": "stream",
     "text": [
      "10\n"
     ]
    }
   ],
   "source": [
    "'''getting length'''\n",
    "\n",
    "mylist = [1, 2, 3, 4, 5, 6, 7, 8, 9, 10]\n",
    "\n",
    "mylist_len = len(mylist)\n",
    "print(mylist_len)"
   ]
  },
  {
   "cell_type": "code",
   "execution_count": 77,
   "metadata": {},
   "outputs": [
    {
     "name": "stdout",
     "output_type": "stream",
     "text": [
      "1\n",
      "4\n",
      "\n",
      "---------------------\n",
      "\n",
      "10\n",
      "7\n",
      "\n",
      "---------------------\n",
      "\n",
      "[6, 7]\n",
      "[5, 6, 7, 8, 9, 10]\n"
     ]
    }
   ],
   "source": [
    "'''accessing the element'''\n",
    "\n",
    "mylist = [1, 2, 3, 4, 5, 6, 7, 8, 9, 10]\n",
    "\n",
    "print(mylist[0])\n",
    "print(mylist[3])\n",
    "\n",
    "print('\\n---------------------\\n')\n",
    "\n",
    "print(mylist[-1])\n",
    "print(mylist[-4])\n",
    "\n",
    "print('\\n---------------------\\n')\n",
    "\n",
    "print(mylist[5:7])\n",
    "print(mylist[4:])"
   ]
  },
  {
   "cell_type": "code",
   "execution_count": 75,
   "metadata": {},
   "outputs": [
    {
     "name": "stdout",
     "output_type": "stream",
     "text": [
      "[1, 2, 3]\n",
      "\n",
      "---------------------\n",
      "\n",
      "[1, 2, 3, 'new']\n",
      "[1, 2, 3]\n",
      "\n",
      "---------------------\n",
      "\n",
      "[1, 'new', 2, 3]\n",
      "[1, 2, 3]\n"
     ]
    }
   ],
   "source": [
    "'''editing the list'''\n",
    "\n",
    "mylist = [1, 2, 3]\n",
    "print(mylist)\n",
    "\n",
    "print('\\n---------------------\\n')\n",
    "\n",
    "mylist.append('new')\n",
    "print(mylist)\n",
    "mylist.remove('new')\n",
    "print(mylist)\n",
    "\n",
    "print('\\n---------------------\\n')\n",
    "\n",
    "mylist.insert(1, 'new')\n",
    "print(mylist)\n",
    "mylist.pop(1)\n",
    "print(mylist)"
   ]
  },
  {
   "cell_type": "code",
   "execution_count": 76,
   "metadata": {},
   "outputs": [
    {
     "name": "stdout",
     "output_type": "stream",
     "text": [
      "[1, 18, 47, 54]\n",
      "\n",
      "---------------------\n",
      "\n",
      "[54, 47, 18, 1]\n"
     ]
    }
   ],
   "source": [
    "'''reversing and sorting'''\n",
    "\n",
    "mylist = [18, 54, 1, 47]\n",
    "\n",
    "mylist.sort()\n",
    "print(mylist)\n",
    "\n",
    "print('\\n---------------------\\n')\n",
    "\n",
    "mylist.reverse()\n",
    "print(mylist)"
   ]
  },
  {
   "cell_type": "code",
   "execution_count": 63,
   "metadata": {},
   "outputs": [
    {
     "name": "stdout",
     "output_type": "stream",
     "text": [
      "True\n",
      "False\n"
     ]
    }
   ],
   "source": [
    "'''check element available or not'''\n",
    "\n",
    "mylist = [18, 54, 1, 47]\n",
    "\n",
    "print(47 in mylist)\n",
    "print(47 not in mylist)"
   ]
  },
  {
   "cell_type": "markdown",
   "metadata": {},
   "source": [
    "### Exercise 1\n",
    "\n",
    "Write a code by creating a List with member countries in Association of Southeast Asian Nations (ASEAN) and print weather inputted particular country in ASEAN association or not"
   ]
  },
  {
   "cell_type": "markdown",
   "metadata": {},
   "source": [
    "### Exercise 2\n",
    "\n",
    "Write a code by creating a List with all even numbers between 0 and 20 in ascending order. And then, place inputted odd number between nearest 2 even numbers in the list and print the final list"
   ]
  },
  {
   "cell_type": "markdown",
   "metadata": {},
   "source": [
    "# 2) Tuples\n",
    "\n",
    "Tuples are similar to lists but they are immutable which means they can't change after they have created\n",
    "\n",
    "And instead of square brackets in Lists, Tuples use normal brackets"
   ]
  },
  {
   "cell_type": "code",
   "execution_count": 82,
   "metadata": {},
   "outputs": [
    {
     "name": "stdout",
     "output_type": "stream",
     "text": [
      "<class 'tuple'>\n",
      "(1, 2, 3, 4, 5, 6, 7, 8, 9, 10)\n",
      "('Laos', 'Thailand', 'Cambodia')\n",
      "(1, 2, 3.5, 'string', True, 6, 7)\n"
     ]
    }
   ],
   "source": [
    "mylist1 = (1, 2, 3, 4, 5, 6, 7, 8, 9, 10)\n",
    "mylist2 = (\"Laos\", \"Thailand\", \"Cambodia\")\n",
    "mylist3 = (1, 2, 3.5, \"string\", True, 6, 7)\n",
    "\n",
    "print(type(mylist1))\n",
    "\n",
    "print(mylist1)\n",
    "print(mylist2)\n",
    "print(mylist3)"
   ]
  },
  {
   "cell_type": "markdown",
   "metadata": {},
   "source": [
    "### Exercise 3\n",
    "\n",
    "Perform same operations as Lists for Tuples also\n",
    "    - getting length\n",
    "    - accessing the element\n",
    "    - editing the tuple\n",
    "    - reversing and sorting\n",
    "    - check element available or not"
   ]
  },
  {
   "cell_type": "markdown",
   "metadata": {},
   "source": [
    "### Lists can be converted to a tuples and tuples can be converted to lists"
   ]
  },
  {
   "cell_type": "code",
   "execution_count": 83,
   "metadata": {},
   "outputs": [
    {
     "name": "stdout",
     "output_type": "stream",
     "text": [
      "(1, 2, 3, 4, 5)\n",
      "\n",
      "---------------------\n",
      "\n",
      "[1, 2, 3, 4, 5]\n"
     ]
    }
   ],
   "source": [
    "a = [1, 2, 3, 4, 5]\n",
    "b = tuple(a)\n",
    "print(b)\n",
    "\n",
    "print('\\n---------------------\\n')\n",
    "\n",
    "a = (1, 2, 3, 4, 5)\n",
    "b = list(a)\n",
    "print(b)"
   ]
  },
  {
   "cell_type": "markdown",
   "metadata": {},
   "source": [
    "# 3) Dictionaries\n",
    "\n",
    "just imaging we have a 2 column table of ASEAN countries with country name and population. How do we represent it ? now we need data structure that relates country name with population rather than list like data structures. that's where we have to use dictionaries\n",
    "\n",
    "and once we have a dictionary we should be able to perform some operations similar to lists and tuples on that such as,\n",
    "    - getting length\n",
    "    - accessing the element\n",
    "    - editing the dictionary\n",
    "    - check element available or not"
   ]
  },
  {
   "cell_type": "code",
   "execution_count": 98,
   "metadata": {},
   "outputs": [
    {
     "name": "stdout",
     "output_type": "stream",
     "text": [
      "<class 'dict'>\n",
      "{'third': 'Thailand', 'fist': 'Laos', 'second': 'Cambodia'}\n",
      "{1: 111, 2: 222, 3: 333}\n"
     ]
    }
   ],
   "source": [
    "mydictionary2 = {1: 111, 2: 222 , 3: 333}\n",
    "mydictionary1 = {\"fist\": \"Laos\", \"second\": \"Cambodia\", \"third\": \"Thailand\"}\n",
    "\n",
    "print(type(mydictionary1))\n",
    "\n",
    "print(mydictionary1)\n",
    "print(mydictionary2)"
   ]
  },
  {
   "cell_type": "code",
   "execution_count": 99,
   "metadata": {},
   "outputs": [
    {
     "name": "stdout",
     "output_type": "stream",
     "text": [
      "3\n"
     ]
    }
   ],
   "source": [
    "'''getting length'''\n",
    "\n",
    "mydictionary = {\"fist\": \"Laos\", \"second\": \"Cambodia\", \"third\": \"Thailand\"}\n",
    "\n",
    "mydictionary_len = len(mydictionary)\n",
    "print(mydictionary_len)"
   ]
  },
  {
   "cell_type": "code",
   "execution_count": 97,
   "metadata": {},
   "outputs": [
    {
     "name": "stdout",
     "output_type": "stream",
     "text": [
      "Laos\n",
      "Thailand\n"
     ]
    }
   ],
   "source": [
    "'''accessing the element'''\n",
    "\n",
    "mydictionary = {\"fist\": \"Laos\", \"second\": \"Cambodia\", \"third\": \"Thailand\"}\n",
    "\n",
    "print(mydictionary[\"fist\"])\n",
    "print(mydictionary.get(\"third\"))"
   ]
  },
  {
   "cell_type": "code",
   "execution_count": 108,
   "metadata": {},
   "outputs": [
    {
     "name": "stdout",
     "output_type": "stream",
     "text": [
      "{'fouth': 'Vietnam', 'third': 'Thailand', 'fist': 'Laos', 'second': 'Cambodia'}\n",
      "{'fouth': 'Indonesia', 'third': 'Thailand', 'fist': 'Laos', 'second': 'Cambodia'}\n",
      "{'third': 'Thailand', 'fist': 'Laos', 'second': 'Cambodia'}\n"
     ]
    }
   ],
   "source": [
    "'''editing the dictionary'''\n",
    "\n",
    "mydictionary = {\"fist\": \"Laos\", \"second\": \"Cambodia\", \"third\": \"Thailand\"}\n",
    "\n",
    "mydictionary[\"fouth\"] = \"Vietnam\"\n",
    "print(mydictionary)\n",
    "\n",
    "mydictionary[\"fouth\"] = \"Indonesia\"\n",
    "print(mydictionary)\n",
    "\n",
    "mydictionary.pop(\"fouth\")\n",
    "print(mydictionary)"
   ]
  },
  {
   "cell_type": "code",
   "execution_count": 114,
   "metadata": {},
   "outputs": [
    {
     "name": "stdout",
     "output_type": "stream",
     "text": [
      "True\n",
      "False\n",
      "False\n"
     ]
    }
   ],
   "source": [
    "'''check element available or not'''\n",
    "\n",
    "mydictionary = {\"fist\": \"Laos\", \"second\": \"Cambodia\", \"third\": \"Thailand\"}\n",
    "\n",
    "print(\"fist\" in mydictionary)\n",
    "print(\"fist\" not in mydictionary)"
   ]
  },
  {
   "cell_type": "markdown",
   "metadata": {},
   "source": [
    "### Getting dictionary keys and values separately as lists"
   ]
  },
  {
   "cell_type": "code",
   "execution_count": 119,
   "metadata": {},
   "outputs": [
    {
     "name": "stdout",
     "output_type": "stream",
     "text": [
      "['third', 'fist', 'second']\n",
      "['Thailand', 'Laos', 'Cambodia']\n"
     ]
    }
   ],
   "source": [
    "mydictionary = {\"fist\": \"Laos\", \"second\": \"Cambodia\", \"third\": \"Thailand\"}\n",
    "\n",
    "keys_list = list(mydictionary.keys())\n",
    "values_list = list(mydictionary.values())\n",
    "\n",
    "print(keys_list)\n",
    "print(values_list)"
   ]
  },
  {
   "cell_type": "markdown",
   "metadata": {},
   "source": [
    "### Exercise 4\n",
    "Create a code that gives population when you any ASEAN country name\n",
    "\n",
    "Note: first create a dictionary with country name and population"
   ]
  },
  {
   "cell_type": "markdown",
   "metadata": {},
   "source": [
    "### Exercise 5\n",
    "Create a code that gives population and area when you any ASEAN country name\n",
    "\n",
    "Note: first create a dictionary with country names and lists of [population and area] for each country"
   ]
  },
  {
   "cell_type": "code",
   "execution_count": null,
   "metadata": {},
   "outputs": [],
   "source": []
  }
 ],
 "metadata": {
  "kernelspec": {
   "display_name": "Python 3",
   "language": "python",
   "name": "python3"
  },
  "language_info": {
   "codemirror_mode": {
    "name": "ipython",
    "version": 3
   },
   "file_extension": ".py",
   "mimetype": "text/x-python",
   "name": "python",
   "nbconvert_exporter": "python",
   "pygments_lexer": "ipython3",
   "version": "3.5.2"
  }
 },
 "nbformat": 4,
 "nbformat_minor": 2
}
