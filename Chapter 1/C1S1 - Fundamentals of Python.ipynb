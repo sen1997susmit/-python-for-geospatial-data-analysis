{
 "cells": [
  {
   "cell_type": "markdown",
   "metadata": {},
   "source": [
    "# Chapter 1 - Session 1\n",
    "# Fundamentals of Python\n",
    "\n",
    "## Objectives\n",
    "#### learn how to write simple code to do simple calculations\n",
    "\n",
    "## Content\n",
    "#### 1) First Code in Python - Print and Input\n",
    "#### 2) Comments in Code\n",
    "#### 3) Variables\n",
    "#### 4) Data Types - Numbers and String"
   ]
  },
  {
   "cell_type": "markdown",
   "metadata": {},
   "source": [
    "<hr>"
   ]
  },
  {
   "cell_type": "markdown",
   "metadata": {},
   "source": [
    "# 1) First Code in Python - Print and Input"
   ]
  },
  {
   "cell_type": "code",
   "execution_count": 1,
   "metadata": {},
   "outputs": [
    {
     "name": "stdout",
     "output_type": "stream",
     "text": [
      "My first code.\n"
     ]
    }
   ],
   "source": [
    "print(\"My first code.\")"
   ]
  },
  {
   "cell_type": "code",
   "execution_count": 28,
   "metadata": {},
   "outputs": [
    {
     "name": "stdout",
     "output_type": "stream",
     "text": [
      "What is your name : lakmal\n",
      "your name is: \n",
      "lakmal\n"
     ]
    }
   ],
   "source": [
    "name = input('What is your name : ')\n",
    "print(\"your name is: \")\n",
    "print(name)"
   ]
  },
  {
   "cell_type": "markdown",
   "metadata": {},
   "source": [
    "# 2) Comments in Code\n",
    "They are added with the purpose of making the source code easier for humans to understand, They are ignored when program is running"
   ]
  },
  {
   "cell_type": "code",
   "execution_count": 1,
   "metadata": {},
   "outputs": [
    {
     "name": "stdout",
     "output_type": "stream",
     "text": [
      "Hello World!\n"
     ]
    }
   ],
   "source": [
    "# This is single line comment\n",
    "\n",
    "'''\n",
    "This is multi line comment\n",
    "Line 1\n",
    "Line 2\n",
    "'''\n",
    "\n",
    "print('Hello World!')"
   ]
  },
  {
   "cell_type": "markdown",
   "metadata": {},
   "source": [
    "# 3) Variable"
   ]
  },
  {
   "cell_type": "code",
   "execution_count": 6,
   "metadata": {},
   "outputs": [
    {
     "name": "stdout",
     "output_type": "stream",
     "text": [
      "10\n",
      "Lao\n"
     ]
    }
   ],
   "source": [
    "x = 10 \n",
    "y = \"Lao\"\n",
    "print(x)\n",
    "print(y)"
   ]
  },
  {
   "cell_type": "markdown",
   "metadata": {},
   "source": [
    "### Rules for Python variables\n",
    "A variable name must start with a letter or the underscore character\n",
    "\n",
    "A variable name cannot start with a number\n",
    "\n",
    "A variable name can only contain alpha-numeric characters and underscores (A-z, 0-9, and _ )\n",
    "\n",
    "Variable names are case-sensitive (age, Name and Name are three different variables)"
   ]
  },
  {
   "cell_type": "markdown",
   "metadata": {},
   "source": [
    "# 4) Data Types - Numbers and Strings"
   ]
  },
  {
   "cell_type": "markdown",
   "metadata": {},
   "source": [
    "### Numbers : represent numerical values\n",
    "- Integer - Examples: 5, 6000, 80, -1, -15, -5890, 0\n",
    "- Floats - Examples: -3.5, -400.8945, 50.1547\n",
    "- Complex Numbers - Examples: -3 + 2j, 10 + 1584j\n",
    "- Booleans - True, False"
   ]
  },
  {
   "cell_type": "code",
   "execution_count": 4,
   "metadata": {},
   "outputs": [
    {
     "name": "stdout",
     "output_type": "stream",
     "text": [
      "10\n",
      "<class 'int'>\n",
      "15.4\n",
      "<class 'float'>\n",
      "(3+5j)\n",
      "<class 'complex'>\n",
      "True\n",
      "<class 'bool'>\n"
     ]
    }
   ],
   "source": [
    "x1 = 10\n",
    "x2 = 15.4\n",
    "x3 = 3+5j\n",
    "x4 = True\n",
    "\n",
    "print(x1)\n",
    "print(type(x1))\n",
    "print(x2)\n",
    "print(type(x2))\n",
    "print(x3)\n",
    "print(type(x3))\n",
    "print(x4)\n",
    "print(type(x4))"
   ]
  },
  {
   "cell_type": "markdown",
   "metadata": {},
   "source": [
    "### Operations between 2 numbers"
   ]
  },
  {
   "cell_type": "code",
   "execution_count": 5,
   "metadata": {},
   "outputs": [
    {
     "name": "stdout",
     "output_type": "stream",
     "text": [
      "22\n",
      "-12\n",
      "85\n",
      "3.4\n",
      "2\n",
      "25\n"
     ]
    }
   ],
   "source": [
    "x = 5\n",
    "y = 17\n",
    "\n",
    "print(x+y) #Adding\n",
    "\n",
    "print(x-y) #Substracting\n",
    "\n",
    "print(x*y) #multiplication\n",
    "\n",
    "print(y/x) #division\n",
    "\n",
    "print(y%x) #modulo operation\n",
    "\n",
    "print(x**2) #power"
   ]
  },
  {
   "cell_type": "markdown",
   "metadata": {},
   "source": [
    "### Exercise 1\n",
    "\n",
    "Write code to evaluate function : 2*X^5 + 5*X^4 + 4*X^2 + 14 at X = 15, X = -2 and X = 0"
   ]
  },
  {
   "cell_type": "markdown",
   "metadata": {},
   "source": [
    "### Strings : represent text\n",
    "String in python are surrounded by either single quotation or double quotation.\n",
    "\n",
    "'hello world' is the same as \"hello world\""
   ]
  },
  {
   "cell_type": "code",
   "execution_count": 25,
   "metadata": {},
   "outputs": [
    {
     "name": "stdout",
     "output_type": "stream",
     "text": [
      "My name is Jhon\n"
     ]
    }
   ],
   "source": [
    "x = \"My name is \"\n",
    "y = \"Jhon\"\n",
    "z =  x + y\n",
    "print(z)"
   ]
  },
  {
   "cell_type": "code",
   "execution_count": 6,
   "metadata": {},
   "outputs": [
    {
     "name": "stdout",
     "output_type": "stream",
     "text": [
      "e\n",
      "llo\n",
      "Hello, World!\n",
      "hello, world!\n",
      "HELLO, WORLD!\n",
      "Jello, World!\n",
      "['Hello', ' World!']\n"
     ]
    }
   ],
   "source": [
    "a = \"Hello, World!\"\n",
    "\n",
    "'''string indexing\n",
    "first character is index zero, second character is index one, etc....\n",
    "'''\n",
    "print(a[1])\n",
    "print(a[2:5])\n",
    "\n",
    "'''Common operations with strings'''\n",
    "print(a.strip()) # removes any whitespace\n",
    "print(a.lower()) # returns the string in lower case\n",
    "print(a.upper()) # returns the string in upper case\n",
    "print(a.replace(\"H\", \"J\")) # replace characters\n",
    "print(a.split(\",\")) # split string by a character"
   ]
  },
  {
   "cell_type": "markdown",
   "metadata": {},
   "source": [
    "### Converting between Data Types (Casting)\n",
    "\n",
    "sometimes, we have to force some data to be a particular data type. as example, when we input something to a program, usually it comes as a text (string). so if we want to perform calculations on that, we have to convert that in to a numerical type such as int / float"
   ]
  },
  {
   "cell_type": "code",
   "execution_count": 47,
   "metadata": {},
   "outputs": [
    {
     "name": "stdout",
     "output_type": "stream",
     "text": [
      "10 <class 'int'>\n",
      "5 <class 'int'>\n",
      "\n",
      "---------------------\n",
      "\n",
      "12.0 <class 'float'>\n",
      "15.9 <class 'float'>\n",
      "\n",
      "---------------------\n",
      "\n",
      "5 <class 'str'>\n",
      "4.5 <class 'str'>\n"
     ]
    }
   ],
   "source": [
    "a = int(10.15)\n",
    "b = int(\"5\")\n",
    "\n",
    "print(a, type(a))\n",
    "print(b, type(b))\n",
    "\n",
    "print('\\n---------------------\\n')\n",
    "\n",
    "a = float(12)\n",
    "b = float(\"15.9\")\n",
    "\n",
    "print(a, type(a))\n",
    "print(b, type(b))\n",
    "\n",
    "print('\\n---------------------\\n')\n",
    "\n",
    "a = str(5)\n",
    "b = str(4.5)\n",
    "\n",
    "print(a, type(a))\n",
    "print(b, type(b))"
   ]
  },
  {
   "cell_type": "markdown",
   "metadata": {},
   "source": [
    "### Exercise 2 \n",
    "Create a simple code to input 3 strings and return string that concatenating those 3 inputs"
   ]
  },
  {
   "cell_type": "markdown",
   "metadata": {},
   "source": [
    "### Exercise 3\n",
    "Create a simple code to input 2 values and return summation of those 2 values"
   ]
  },
  {
   "cell_type": "markdown",
   "metadata": {},
   "source": [
    "### Exercise 4\n",
    "Create a simple code to input a radius of a circle and return the area and circumference of that circle"
   ]
  },
  {
   "cell_type": "markdown",
   "metadata": {},
   "source": [
    "### Exercise 5\n",
    "Create a simple code to convert 24 hour clock to 12 hour clock. (No need to print AM, PM, just print hour in 12 hour clock)\n",
    "\n",
    "\n",
    "Example: input 16 output 4"
   ]
  },
  {
   "cell_type": "code",
   "execution_count": null,
   "metadata": {},
   "outputs": [],
   "source": []
  }
 ],
 "metadata": {
  "kernelspec": {
   "display_name": "Python 3",
   "language": "python",
   "name": "python3"
  },
  "language_info": {
   "codemirror_mode": {
    "name": "ipython",
    "version": 3
   },
   "file_extension": ".py",
   "mimetype": "text/x-python",
   "name": "python",
   "nbconvert_exporter": "python",
   "pygments_lexer": "ipython3",
   "version": "3.5.2"
  }
 },
 "nbformat": 4,
 "nbformat_minor": 2
}
