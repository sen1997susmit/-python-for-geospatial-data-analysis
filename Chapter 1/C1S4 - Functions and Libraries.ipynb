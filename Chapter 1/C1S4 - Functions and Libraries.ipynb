{
 "cells": [
  {
   "cell_type": "markdown",
   "metadata": {},
   "source": [
    "# Chapter 1 - Session 4\n",
    "\n",
    "# Functions and Libraries\n",
    "\n",
    "## Objectives\n",
    "#### learn how to write functions in your code and use existing libraries rather than writing by yourself\n",
    "\n",
    "## Content\n",
    "#### 1) Writing own Functions\n",
    "#### 2) Using Libraries"
   ]
  },
  {
   "cell_type": "markdown",
   "metadata": {},
   "source": [
    "<hr>"
   ]
  },
  {
   "cell_type": "markdown",
   "metadata": {},
   "source": [
    "# 1) Writing own Functions\n",
    "\n",
    "just imagine that, we are writing program for agriculture monitoring. so we need to calculate vegetation indexes like NDVI often. so rather than we writing NDVI calculation code section over and over again, we can write NDVI calculation as a function. we can call that function to calculate NDVI whenever we want rather than writing NDVI calculation code over and over again\n",
    "\n",
    "A function can be considered as a block of code which run over and over again when we call\n",
    "\n",
    "And we can input data (parameters) and output data (return) from the fiction\n",
    "\n",
    "Functions make computer code more simple and readable\n",
    "\n",
    "Our last example of area calculation as a function below"
   ]
  },
  {
   "cell_type": "code",
   "execution_count": 1,
   "metadata": {},
   "outputs": [
    {
     "name": "stdout",
     "output_type": "stream",
     "text": [
      "78.53999999999999\n",
      "615.7536\n"
     ]
    }
   ],
   "source": [
    "def area(radius):\n",
    "    if (radius > 0):\n",
    "        return 3.1416 * radius ** 2\n",
    "    else:\n",
    "        return 0\n",
    "\n",
    "print(area(5))\n",
    "print(area(14))"
   ]
  },
  {
   "cell_type": "markdown",
   "metadata": {},
   "source": [
    "### Exercise 1\n",
    "\n",
    "Write a function to calculate and return NDVI value from NIR and Red reflectance values. And call function with different NIR and Red reflectance values get NDVI values"
   ]
  },
  {
   "cell_type": "markdown",
   "metadata": {},
   "source": [
    "### Exercise 2\n",
    "\n",
    "Write a function to calculate square root and factorial of given number"
   ]
  },
  {
   "cell_type": "markdown",
   "metadata": {},
   "source": [
    "# 2) Using Libraries\n",
    "\n",
    "tasks that people use often, we don't want to write code each time from scratch. there are codes that have written by other users and they have shared them through internet. So just can import them in our program and use them. \n",
    "\n",
    "such 2 libraries related to math and statistics are \"math\" and \"statistics\" library. just use there documentation for more information and capabilities of those libraries\n",
    "    - math library reference: https://docs.python.org/3/library/math.html\n",
    "    - statistics library reference: https://docs.python.org/3/library/statistics.html\n",
    "    \n",
    "to install a library in python you can use \"pip3\" command in command prompt\n",
    "\n",
    "    format: pip3 install <library name>\n",
    "\n",
    "    as example: pip3 install math\n",
    "\n",
    "    as example: pip3 install statistics\n",
    "    \n",
    "more information on standard libraries: https://docs.python.org/3/library/"
   ]
  },
  {
   "cell_type": "code",
   "execution_count": 8,
   "metadata": {},
   "outputs": [
    {
     "name": "stdout",
     "output_type": "stream",
     "text": [
      "2.3664319132398464\n",
      "2.3664319132398464\n",
      "\n",
      "---------------------\n",
      "\n",
      "3628800\n"
     ]
    }
   ],
   "source": [
    "'''math library contains lots of functions related to general mathematics'''\n",
    "\n",
    "import math\n",
    "import math as mm\n",
    "\n",
    "print(math.sqrt(5.6))\n",
    "print(mm.sqrt(5.6))\n",
    "\n",
    "print('\\n---------------------\\n')\n",
    "\n",
    "print(mm.factorial(10))"
   ]
  },
  {
   "cell_type": "code",
   "execution_count": 7,
   "metadata": {},
   "outputs": [
    {
     "name": "stdout",
     "output_type": "stream",
     "text": [
      "2.857142857142857\n",
      "1.9518001458970664\n",
      "5\n"
     ]
    }
   ],
   "source": [
    "'''math library contains lots of functions related to general mathematics'''\n",
    "\n",
    "import statistics as stat\n",
    "\n",
    "print(stat.mean([0, 1, 2, 3, 4, 5, 5]))\n",
    "print(stat.stdev([0, 1, 2, 3, 4, 5, 5]))\n",
    "print(stat.mode([0, 1, 2, 3, 4, 5, 5]))"
   ]
  },
  {
   "cell_type": "markdown",
   "metadata": {},
   "source": [
    "### Exercise 3\n",
    "\n",
    "Using above reference links to library documentations, explore and try more functions from \"math\" and \"statistics\" libraries"
   ]
  },
  {
   "cell_type": "markdown",
   "metadata": {},
   "source": [
    "### Exercise 4\n",
    "\n",
    "install \"datetime\" library which has functions related to basic date and time types. And try some functions from it\n",
    "\n",
    "library reference: https://docs.python.org/3/library/datetime.html"
   ]
  },
  {
   "cell_type": "code",
   "execution_count": null,
   "metadata": {},
   "outputs": [],
   "source": []
  }
 ],
 "metadata": {
  "kernelspec": {
   "display_name": "Python 3",
   "language": "python",
   "name": "python3"
  },
  "language_info": {
   "codemirror_mode": {
    "name": "ipython",
    "version": 3
   },
   "file_extension": ".py",
   "mimetype": "text/x-python",
   "name": "python",
   "nbconvert_exporter": "python",
   "pygments_lexer": "ipython3",
   "version": "3.5.2"
  }
 },
 "nbformat": 4,
 "nbformat_minor": 2
}
