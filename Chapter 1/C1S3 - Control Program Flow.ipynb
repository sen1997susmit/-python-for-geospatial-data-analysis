{
 "cells": [
  {
   "cell_type": "markdown",
   "metadata": {},
   "source": [
    "# Chapter 1 - Session 3\n",
    "\n",
    "# Control Program Flow\n",
    "\n",
    "## Objectives\n",
    "#### learn how to control the flow of a program\n",
    "\n",
    "## Content\n",
    "#### 1) IF-ELSE statement\n",
    "#### 2) FOR loops\n",
    "#### 3) WHILE loops"
   ]
  },
  {
   "cell_type": "markdown",
   "metadata": {},
   "source": [
    "<hr>"
   ]
  },
  {
   "cell_type": "markdown",
   "metadata": {},
   "source": [
    "# 1) IF-ELSE statement\n",
    "\n"
   ]
  },
  {
   "cell_type": "markdown",
   "metadata": {},
   "source": [
    "### Exercise 1\n",
    "\n",
    "just write a simple code to input number and find square root of that number\n",
    "\n",
    "Note: when we enter, negative number, it doesn’t make sense. so we want to avoid circumstances when user enter negative numbers. In these cases, we use IF-ELSE statements to control the flow of program"
   ]
  },
  {
   "cell_type": "code",
   "execution_count": 28,
   "metadata": {},
   "outputs": [
    {
     "name": "stdout",
     "output_type": "stream",
     "text": [
      "x is negative number, so squra root is complex\n"
     ]
    }
   ],
   "source": [
    "x = -1\n",
    "\n",
    "if (x < 0):\n",
    "    print(\"x is negative number, so squra root is complex\")\n",
    "else:\n",
    "    print(x**0.5)   "
   ]
  },
  {
   "cell_type": "code",
   "execution_count": 1,
   "metadata": {},
   "outputs": [
    {
     "name": "stdout",
     "output_type": "stream",
     "text": [
      "x is higher than 1000\n"
     ]
    }
   ],
   "source": [
    "'''multi step IF-ELSE statements'''\n",
    "\n",
    "x = 1500\n",
    "\n",
    "if (x < 100):\n",
    "    print(\"x is less than 100\")\n",
    "elif (x < 1000):\n",
    "    print(\"x is between than 100 and 1000\")\n",
    "else:\n",
    "    print(\"x is higher than 1000\")"
   ]
  },
  {
   "cell_type": "markdown",
   "metadata": {},
   "source": [
    "### We have to use logical operation often in IF-ELSE statements. some common operations are as below"
   ]
  },
  {
   "cell_type": "code",
   "execution_count": 11,
   "metadata": {},
   "outputs": [
    {
     "name": "stdout",
     "output_type": "stream",
     "text": [
      "False\n",
      "True\n",
      "\n",
      "---------------------\n",
      "\n",
      "True\n",
      "True\n",
      "False\n",
      "False\n",
      "\n",
      "---------------------\n",
      "\n",
      "False\n",
      "True\n",
      "False\n",
      "True\n"
     ]
    }
   ],
   "source": [
    "print(4 == 2)  # equals\n",
    "print(4 != 2)  # not equals\n",
    "\n",
    "print('\\n---------------------\\n')\n",
    "\n",
    "print(4 > 2)  # greater than\n",
    "print(4 >= 2)  # greater than or equals\n",
    "print(4 < 2)  # less than\n",
    "print(4 <= 2)  # less than or equals\n",
    "\n",
    "print('\\n---------------------\\n')\n",
    "\n",
    "print(True and False)  # and\n",
    "print(True or False)  # or\n",
    "print(not True)  # not\n",
    "\n",
    "print(not (3==2) and (3==2+1))"
   ]
  },
  {
   "cell_type": "markdown",
   "metadata": {},
   "source": [
    "### Exercise 2\n",
    "\n",
    "Write a code to check whether a number is positive, negative, zero"
   ]
  },
  {
   "cell_type": "markdown",
   "metadata": {},
   "source": [
    "### Exercise 3\n",
    "\n",
    "Write a code to find maximum and minimum between two numbers\n",
    "\n",
    "Write a code to find maximum and minimum between three numbers"
   ]
  },
  {
   "cell_type": "markdown",
   "metadata": {},
   "source": [
    "### Exercise 4\n",
    "\n",
    "Write a code to add inputted elements to a list checking whether it already exists in the list or not "
   ]
  },
  {
   "cell_type": "markdown",
   "metadata": {},
   "source": [
    "# 2) FOR loops\n",
    "\n",
    "Assume that we have a list and we wanted to do operations on each element of the list and print. As example, we want to add a number to a list that containing values between 0 to 10. In this case, we use loops"
   ]
  },
  {
   "cell_type": "code",
   "execution_count": 2,
   "metadata": {},
   "outputs": [
    {
     "name": "stdout",
     "output_type": "stream",
     "text": [
      "1\n",
      "2\n",
      "3\n",
      "4\n",
      "5\n",
      "6\n",
      "7\n",
      "8\n",
      "9\n",
      "10\n",
      "11\n",
      "\n",
      "---------------------\n",
      "\n",
      "apple\n",
      "mango\n",
      "pineapple\n",
      "banana\n",
      "\n",
      "---------------------\n",
      "\n"
     ]
    }
   ],
   "source": [
    "numlist = [0, 1, 2, 3, 4, 5, 6, 7, 8, 9, 10]\n",
    "for x in numlist:\n",
    "  print(x+1)\n",
    "\n",
    "print('\\n---------------------\\n')\n",
    "\n",
    "fruits = [\"apple\", \"mango\", \"pineapple\", \"banana\"]\n",
    "for x in fruits:\n",
    "  print(x)\n",
    "\n",
    "print('\\n---------------------\\n')"
   ]
  },
  {
   "cell_type": "markdown",
   "metadata": {},
   "source": [
    "When we are working with numbers, rather than making a separate list, we can use \"range\" to generate number lists\n",
    "\n",
    "format for the range : range(starting value, end value excluding itself, step value)\n",
    "\n",
    "range(0, 10, 3) means, values between 0 to 10 (excluding 10), 3 by 3"
   ]
  },
  {
   "cell_type": "code",
   "execution_count": 48,
   "metadata": {},
   "outputs": [
    {
     "name": "stdout",
     "output_type": "stream",
     "text": [
      "0\n",
      "3\n",
      "6\n",
      "9\n"
     ]
    }
   ],
   "source": [
    "for count in range(0, 10, 3):\n",
    "   print(count)"
   ]
  },
  {
   "cell_type": "markdown",
   "metadata": {},
   "source": [
    "In some cases, we have to skip some particular iteration. As example, just imaging we are downloading list of satellite images and one file is missing, so we want to skip that iteration. so we use \"continue\" with a condition to do that, as below"
   ]
  },
  {
   "cell_type": "code",
   "execution_count": 50,
   "metadata": {},
   "outputs": [
    {
     "name": "stdout",
     "output_type": "stream",
     "text": [
      "0\n",
      "1\n",
      "2\n",
      "4\n",
      "5\n"
     ]
    }
   ],
   "source": [
    "for x in range(0,6):\n",
    "  if x == 3:\n",
    "    continue\n",
    "  print(x)"
   ]
  },
  {
   "cell_type": "markdown",
   "metadata": {},
   "source": [
    "### Exercise 5\n",
    "\n",
    "Write a code to calculate sum, minimum and maximum of a list containing any 10 numbers"
   ]
  },
  {
   "cell_type": "markdown",
   "metadata": {},
   "source": [
    "### Exercise 6\n",
    "\n",
    "Write a code to print all even numbers between 1 to 100 using for loop"
   ]
  },
  {
   "cell_type": "markdown",
   "metadata": {},
   "source": [
    "### Exercise 7\n",
    "\n",
    "Write a code to add inputted list to an existing list adding only elements which are not in the existing list "
   ]
  },
  {
   "cell_type": "markdown",
   "metadata": {},
   "source": [
    "# 3) WHILE loops\n",
    "\n",
    "while loop is another iterative loop like for loop. it runs until some condition is satisfied"
   ]
  },
  {
   "cell_type": "code",
   "execution_count": 39,
   "metadata": {},
   "outputs": [
    {
     "name": "stdout",
     "output_type": "stream",
     "text": [
      "1\n",
      "2\n",
      "3\n",
      "4\n",
      "5\n",
      "6\n",
      "7\n",
      "8\n",
      "9\n",
      "10\n"
     ]
    }
   ],
   "source": [
    "count = 1\n",
    "while (count < 11):\n",
    "   print(count)\n",
    "   count = count + 1"
   ]
  },
  {
   "cell_type": "markdown",
   "metadata": {},
   "source": [
    "### Exercise 8\n",
    "\n",
    "Write a code to print all even numbers between 1 to 100 using while loop"
   ]
  },
  {
   "cell_type": "markdown",
   "metadata": {},
   "source": [
    "### Exercise 9\n",
    "\n",
    "Write a code to find all factors of a number."
   ]
  },
  {
   "cell_type": "code",
   "execution_count": null,
   "metadata": {},
   "outputs": [],
   "source": []
  }
 ],
 "metadata": {
  "kernelspec": {
   "display_name": "Python 3",
   "language": "python",
   "name": "python3"
  },
  "language_info": {
   "codemirror_mode": {
    "name": "ipython",
    "version": 3
   },
   "file_extension": ".py",
   "mimetype": "text/x-python",
   "name": "python",
   "nbconvert_exporter": "python",
   "pygments_lexer": "ipython3",
   "version": "3.5.2"
  }
 },
 "nbformat": 4,
 "nbformat_minor": 2
}
