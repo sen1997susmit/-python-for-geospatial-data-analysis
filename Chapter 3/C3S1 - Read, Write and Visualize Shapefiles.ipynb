{
 "cells": [
  {
   "cell_type": "markdown",
   "metadata": {},
   "source": [
    "# Chapter 3 - Session 1\n",
    "# Read, Write and Visualize Shapefiles\n",
    "\n",
    "## Objectives\n",
    "#### learn how to write simple code to read, write and visualize shapefile using geopandas library in python workspace\n",
    "\n",
    "## Content\n",
    "#### 1) Installation and Importing geopandas Library\n",
    "#### 2) Read shapefiles\n",
    "#### 3) Visualizing shapefiles in python\n",
    "#### 4) Write Shapefiles"
   ]
  },
  {
   "cell_type": "markdown",
   "metadata": {},
   "source": [
    "<hr>"
   ]
  },
  {
   "cell_type": "markdown",
   "metadata": {},
   "source": [
    "to work with shapefiles in python, we use new library call \"geopandas\"\n",
    "\n",
    "\"geopandas\" is an open source project to make working with geospatial data in python easier. \n",
    "\n",
    "more information can be found here\n",
    "\n",
    "    http://geopandas.org/\n",
    "    \n"
   ]
  },
  {
   "cell_type": "markdown",
   "metadata": {},
   "source": [
    "# 1) Installation and Importing geopandas Library\n",
    "\n",
    "First we have to install geopandas library to the Python using pip3 command\n",
    "\n",
    "or if you use Anaconda, you can use, Anaconda Navigator to install geopandas library\n",
    "\n",
    "then we can import and access various functions from geopandas library to our python work space"
   ]
  },
  {
   "cell_type": "code",
   "execution_count": null,
   "metadata": {},
   "outputs": [],
   "source": [
    "import geopandas as gpd"
   ]
  },
  {
   "cell_type": "code",
   "execution_count": 36,
   "metadata": {},
   "outputs": [
    {
     "data": {
      "text/html": [
       "<div>\n",
       "<style scoped>\n",
       "    .dataframe tbody tr th:only-of-type {\n",
       "        vertical-align: middle;\n",
       "    }\n",
       "\n",
       "    .dataframe tbody tr th {\n",
       "        vertical-align: top;\n",
       "    }\n",
       "\n",
       "    .dataframe thead th {\n",
       "        text-align: right;\n",
       "    }\n",
       "</style>\n",
       "<table border=\"1\" class=\"dataframe\">\n",
       "  <thead>\n",
       "    <tr style=\"text-align: right;\">\n",
       "      <th></th>\n",
       "      <th>ID_0</th>\n",
       "      <th>ISO</th>\n",
       "      <th>NAME_0</th>\n",
       "      <th>ID_1</th>\n",
       "      <th>NAME_1</th>\n",
       "      <th>Shape_Leng</th>\n",
       "      <th>Shape_Area</th>\n",
       "      <th>Population</th>\n",
       "      <th>geometry</th>\n",
       "    </tr>\n",
       "  </thead>\n",
       "  <tbody>\n",
       "    <tr>\n",
       "      <th>0</th>\n",
       "      <td>126</td>\n",
       "      <td>LAO</td>\n",
       "      <td>Laos</td>\n",
       "      <td>1605</td>\n",
       "      <td>Louang Namtha</td>\n",
       "      <td>4.922146</td>\n",
       "      <td>0.850094</td>\n",
       "      <td>175753.0</td>\n",
       "      <td>POLYGON ((101.1876 21.55895300000003, 101.1879...</td>\n",
       "    </tr>\n",
       "    <tr>\n",
       "      <th>1</th>\n",
       "      <td>126</td>\n",
       "      <td>LAO</td>\n",
       "      <td>Laos</td>\n",
       "      <td>1606</td>\n",
       "      <td>Louangphrabang</td>\n",
       "      <td>7.789587</td>\n",
       "      <td>1.724792</td>\n",
       "      <td>431889.0</td>\n",
       "      <td>POLYGON ((102.9288710000001 21.14336400000002,...</td>\n",
       "    </tr>\n",
       "    <tr>\n",
       "      <th>2</th>\n",
       "      <td>126</td>\n",
       "      <td>LAO</td>\n",
       "      <td>Laos</td>\n",
       "      <td>1607</td>\n",
       "      <td>Oudômxai</td>\n",
       "      <td>5.752960</td>\n",
       "      <td>1.018806</td>\n",
       "      <td>307622.0</td>\n",
       "      <td>POLYGON ((101.8398670000001 21.21202900000009,...</td>\n",
       "    </tr>\n",
       "    <tr>\n",
       "      <th>3</th>\n",
       "      <td>126</td>\n",
       "      <td>LAO</td>\n",
       "      <td>Laos</td>\n",
       "      <td>1608</td>\n",
       "      <td>Phôngsali</td>\n",
       "      <td>6.772169</td>\n",
       "      <td>1.339386</td>\n",
       "      <td>177989.0</td>\n",
       "      <td>POLYGON ((101.7794729999999 22.49918000000008,...</td>\n",
       "    </tr>\n",
       "    <tr>\n",
       "      <th>4</th>\n",
       "      <td>126</td>\n",
       "      <td>LAO</td>\n",
       "      <td>Laos</td>\n",
       "      <td>1609</td>\n",
       "      <td>Saravan</td>\n",
       "      <td>6.533029</td>\n",
       "      <td>0.858257</td>\n",
       "      <td>396942.0</td>\n",
       "      <td>POLYGON ((106.87144 16.5329670000001, 106.872 ...</td>\n",
       "    </tr>\n",
       "  </tbody>\n",
       "</table>\n",
       "</div>"
      ],
      "text/plain": [
       "   ID_0  ISO NAME_0  ID_1          NAME_1  Shape_Leng  Shape_Area  Population  \\\n",
       "0   126  LAO   Laos  1605   Louang Namtha    4.922146    0.850094    175753.0   \n",
       "1   126  LAO   Laos  1606  Louangphrabang    7.789587    1.724792    431889.0   \n",
       "2   126  LAO   Laos  1607        Oudômxai    5.752960    1.018806    307622.0   \n",
       "3   126  LAO   Laos  1608       Phôngsali    6.772169    1.339386    177989.0   \n",
       "4   126  LAO   Laos  1609         Saravan    6.533029    0.858257    396942.0   \n",
       "\n",
       "                                            geometry  \n",
       "0  POLYGON ((101.1876 21.55895300000003, 101.1879...  \n",
       "1  POLYGON ((102.9288710000001 21.14336400000002,...  \n",
       "2  POLYGON ((101.8398670000001 21.21202900000009,...  \n",
       "3  POLYGON ((101.7794729999999 22.49918000000008,...  \n",
       "4  POLYGON ((106.87144 16.5329670000001, 106.872 ...  "
      ]
     },
     "execution_count": 36,
     "metadata": {},
     "output_type": "execute_result"
    }
   ],
   "source": [
    "data = gpd.read_file('.\\\\data\\\\LAO_adm1.shp')\n",
    "\n",
    "'''use head command to see shapefile structure'''\n",
    "\n",
    "data.head()"
   ]
  },
  {
   "cell_type": "markdown",
   "metadata": {},
   "source": [
    "As we learn is dictionaries and list, we can use indexes to access each row and column of our shapefile"
   ]
  },
  {
   "cell_type": "code",
   "execution_count": 35,
   "metadata": {},
   "outputs": [
    {
     "name": "stdout",
     "output_type": "stream",
     "text": [
      "18\n",
      "\n",
      "---------------------\n",
      "\n",
      "0              Louang Namtha\n",
      "1             Louangphrabang\n",
      "2                   Oudômxai\n",
      "3                  Phôngsali\n",
      "4                    Saravan\n",
      "5                Savannakhét\n",
      "6                  Vientiane\n",
      "7     Vientiane [prefecture]\n",
      "8                Xaignabouri\n",
      "9                 Xaisômboun\n",
      "10                    Xékong\n",
      "11               Xiangkhoang\n",
      "12                    Attapu\n",
      "13                     Bokeo\n",
      "14               Bolikhamxai\n",
      "15                 Champasak\n",
      "16                  Houaphan\n",
      "17                 Khammouan\n",
      "Name: NAME_1, dtype: object\n",
      "\n",
      "---------------------\n",
      "\n",
      "Louangphrabang\n"
     ]
    }
   ],
   "source": [
    "'''getting number of raws (features) in shapefile'''\n",
    "print(len(data))\n",
    "\n",
    "print('\\n---------------------\\n')\n",
    "\n",
    "'''reading province names from shapefile'''\n",
    "prov_name = data['NAME_1']\n",
    "print(prov_name)\n",
    "\n",
    "print('\\n---------------------\\n')\n",
    "\n",
    "'''reading one province name'''\n",
    "print(prov_name[1])"
   ]
  },
  {
   "cell_type": "markdown",
   "metadata": {},
   "source": [
    "# 1) Visualizing Shapefile\n",
    "\n",
    "In our last exercise, we use matplotlib to visualize images. in case of geopandas library, they have inbuilt functions for visualizations too, which is much easy"
   ]
  },
  {
   "cell_type": "code",
   "execution_count": 33,
   "metadata": {},
   "outputs": [
    {
     "data": {
      "text/plain": [
       "<matplotlib.axes._subplots.AxesSubplot at 0x208fb238550>"
      ]
     },
     "execution_count": 33,
     "metadata": {},
     "output_type": "execute_result"
    },
    {
     "data": {
      "image/png": "[encoded data removed]",
      "text/plain": [
       "<Figure size 432x288 with 1 Axes>"
      ]
     },
     "metadata": {
      "needs_background": "light"
     },
     "output_type": "display_data"
    }
   ],
   "source": [
    "data.plot()"
   ]
  },
  {
   "cell_type": "code",
   "execution_count": 30,
   "metadata": {},
   "outputs": [
    {
     "data": {
      "text/plain": [
       "<matplotlib.axes._subplots.AxesSubplot at 0x208fb15d6a0>"
      ]
     },
     "execution_count": 30,
     "metadata": {},
     "output_type": "execute_result"
    },
    {
     "data": {
      "image/png": "[encoded data removed]",
      "text/plain": [
       "<Figure size 432x288 with 1 Axes>"
      ]
     },
     "metadata": {
      "needs_background": "light"
     },
     "output_type": "display_data"
    }
   ],
   "source": [
    "'''we can use one column to color our shapefile'''\n",
    "\n",
    "data.plot(column='NAME_1')"
   ]
  },
  {
   "cell_type": "code",
   "execution_count": 31,
   "metadata": {},
   "outputs": [
    {
     "data": {
      "text/plain": [
       "<matplotlib.axes._subplots.AxesSubplot at 0x208fb11fe80>"
      ]
     },
     "execution_count": 31,
     "metadata": {},
     "output_type": "execute_result"
    },
    {
     "data": {
      "image/png": "[encoded data removed]",
      "text/plain": [
       "<Figure size 432x288 with 1 Axes>"
      ]
     },
     "metadata": {
      "needs_background": "light"
     },
     "output_type": "display_data"
    }
   ],
   "source": [
    "'''and we can change color maps too'''\n",
    "\n",
    "data.plot(column='NAME_1', cmap='Blues')"
   ]
  },
  {
   "cell_type": "markdown",
   "metadata": {},
   "source": [
    "Colormaps in geopandas library also same as matplotlib that we use with raster data. so you can choose color map codes from same website\n",
    "\n",
    "    https://matplotlib.org/examples/color/colormaps_reference.html\n",
    "    \n",
    "overthought geopandas has their own visualization tools, behind that , they also use matplotlib library. that's why we can use same color map codes"
   ]
  },
  {
   "cell_type": "markdown",
   "metadata": {},
   "source": [
    "# 4) Write Shapefiles"
   ]
  },
  {
   "cell_type": "code",
   "execution_count": 37,
   "metadata": {},
   "outputs": [],
   "source": [
    "data.to_file('.\\\\data\\\\test.shp')"
   ]
  },
  {
   "cell_type": "markdown",
   "metadata": {},
   "source": [
    "### Exercise 1\n",
    "\n",
    "Read point and line shapefiles from given data folder and explore the data"
   ]
  },
  {
   "cell_type": "code",
   "execution_count": null,
   "metadata": {},
   "outputs": [],
   "source": []
  }
 ],
 "metadata": {
  "kernelspec": {
   "display_name": "Python 3",
   "language": "python",
   "name": "python3"
  },
  "language_info": {
   "codemirror_mode": {
    "name": "ipython",
    "version": 3
   },
   "file_extension": ".py",
   "mimetype": "text/x-python",
   "name": "python",
   "nbconvert_exporter": "python",
   "pygments_lexer": "ipython3",
   "version": "3.5.2"
  }
 },
 "nbformat": 4,
 "nbformat_minor": 2
}
