{
 "cells": [
  {
   "cell_type": "markdown",
   "metadata": {},
   "source": [
    "# Chapter 2 - Session 1\n",
    "# Matrix (Images) in Python\n",
    "\n",
    "## Objectives\n",
    "#### learn how to use python library call NumPy which is dedicated to matrix handling and related function (all images are form of matrixes)\n",
    "\n",
    "## Content\n",
    "#### 1) Installation and Importing NumPy Library\n",
    "#### 2) Creating Matrixes using NumPy\n",
    "#### 3) Indexing Matrixes\n",
    "#### 4) Math Operations with Matrixes\n",
    "#### 5) Get Statistics of Matrixes"
   ]
  },
  {
   "cell_type": "markdown",
   "metadata": {},
   "source": [
    "<hr>"
   ]
  },
  {
   "cell_type": "markdown",
   "metadata": {},
   "source": [
    "# 1) Installation and Importing NumPy Library\n",
    "\n",
    "First we have to install NumPy to the Python using pip3 command as below\n",
    "    \n",
    "    pip3 install numpy\n",
    "    \n",
    "if you use Anaconda, NumPy library is already installed by default\n",
    "    \n",
    "then we can import and access various functions from NumPy library to our python work space"
   ]
  },
  {
   "cell_type": "code",
   "execution_count": 30,
   "metadata": {},
   "outputs": [],
   "source": [
    "'''import numpy library to python workspace as np'''\n",
    "\n",
    "import numpy as np"
   ]
  },
  {
   "cell_type": "markdown",
   "metadata": {},
   "source": [
    "# 2) Creating Matrixes using NumPy\n",
    "\n",
    "Actually, we can represent vector or matrix as lists in python. as below\n",
    "\n",
    "    [1,2,3,4] - vecor\n",
    "    [[1,2,3,4],[5,6,7,8]] - matrix\n",
    "    \n",
    "but in order to do operation on matrixes, we have to use \"for\" loops which is not efficient and hectic. to address this, NumPy provide alternative way, which is easy to manage and efficient\n"
   ]
  },
  {
   "cell_type": "code",
   "execution_count": 31,
   "metadata": {},
   "outputs": [
    {
     "name": "stdout",
     "output_type": "stream",
     "text": [
      "<class 'list'>\n",
      "<class 'numpy.ndarray'>\n",
      "\n",
      "---------------------\n",
      "\n",
      "(2, 4)\n",
      "\n",
      "---------------------\n",
      "\n",
      "[1 2 3 4]\n",
      "[1 2 3 4]\n",
      "[[1 2 3 4]\n",
      " [5 6 7 8]]\n",
      "\n",
      "---------------------\n",
      "\n",
      "[[0. 0. 0. 0.]\n",
      " [0. 0. 0. 0.]\n",
      " [0. 0. 0. 0.]\n",
      " [0. 0. 0. 0.]]\n",
      "[[0. 0. 0. 0.]\n",
      " [0. 0. 0. 0.]\n",
      " [0. 0. 0. 0.]\n",
      " [0. 0. 0. 0.]]\n",
      "[[0.9623917  0.87094327 0.59880938 0.00628939]\n",
      " [0.56105573 0.5426853  0.94950349 0.94677059]\n",
      " [0.82008213 0.17605657 0.73836453 0.23074627]\n",
      " [0.12481784 0.00778646 0.42848491 0.01842561]]\n"
     ]
    }
   ],
   "source": [
    "'''lists and numpy matrixes'''\n",
    "\n",
    "my_list = [[1,2,3,4],[5,6,7,8]]\n",
    "my_matrix = np.array([[1,2,3,4],[5,6,7,8]])\n",
    "\n",
    "print(type(my_list))\n",
    "print(type(my_matrix))\n",
    "\n",
    "print('\\n---------------------\\n')\n",
    "\n",
    "'''getting shape of matrixes'''\n",
    "my_matrix = np.array([[1,2,3,4],[5,6,7,8]])\n",
    "print(my_matrix.shape)\n",
    "\n",
    "print('\\n---------------------\\n')\n",
    "\n",
    "'''creating numpy arrays and matrixes'''\n",
    "\n",
    "row_vector = np.array([1,2,3,4])\n",
    "col_vector = np.array([1,2,3,4]).T #transpose\n",
    "my_matrix = np.array([[1,2,3,4],[5,6,7,8]])\n",
    "\n",
    "print(row_vector)\n",
    "print(col_vector)\n",
    "print(my_matrix)\n",
    "\n",
    "print('\\n---------------------\\n')\n",
    "\n",
    "'''we can use built in function in python to creat special matrixes, easily'''\n",
    "\n",
    "zeros_mat = np.zeros((4,4))\n",
    "ones_mat = np.zeros((4,4))\n",
    "random_mat = np.random.rand(4,4)\n",
    "\n",
    "print(zeros_mat)\n",
    "print(ones_mat)\n",
    "print(random_mat)\n"
   ]
  },
  {
   "cell_type": "markdown",
   "metadata": {},
   "source": [
    "### Python Data Types\n",
    "\n",
    "NumPy library has their own data types which are broader than python default data types\n",
    "\n",
    "    int8 - Byte (-128 to 127)\n",
    "    nt16 - Integer (-32768 to 32767)\n",
    "    int32 - Integer (-2147483648 to 2147483647)\n",
    "    uint8 - Unsigned integer (0 to 255)\n",
    "    uint16 - Unsigned integer (0 to 65535)\n",
    "    uint32 - Unsigned integer (0 to 4294967295)\n",
    "    float16 - Half precision float: sign bit, 5 bits exponent, 10 bits mantissa\n",
    "    float32 - Single precision float: sign bit, 8 bits exponent, 23 bits mantissa\n",
    "    float64 - Double precision float: sign bit, 11 bits exponent, 52 bits mantissa\n",
    "    \n",
    "So we can define our own data type for matrix when we are creating it or we can converty between data types "
   ]
  },
  {
   "cell_type": "code",
   "execution_count": 32,
   "metadata": {},
   "outputs": [
    {
     "name": "stdout",
     "output_type": "stream",
     "text": [
      "int32\n",
      "\n",
      "---------------------\n",
      "\n",
      "float32\n",
      "[1.5 2.5 3.5]\n",
      "int32\n",
      "[1 2 3]\n"
     ]
    }
   ],
   "source": [
    "'''get data type of matrix'''\n",
    "\n",
    "my_matrix = np.array([[1,2,3,4],[5,6,7,8]])\n",
    "print(my_matrix.dtype)\n",
    "\n",
    "print('\\n---------------------\\n')\n",
    "\n",
    "'''convert data type from float to int'''\n",
    "\n",
    "my_matrix = np.array([1.5, 2.5, 3.5], dtype=np.float32)\n",
    "print(my_matrix.dtype)\n",
    "print(my_matrix)\n",
    "my_matrix_int = np.array(my_matrix, dtype=np.int32)\n",
    "print(my_matrix_int.dtype)\n",
    "print(my_matrix_int)"
   ]
  },
  {
   "cell_type": "markdown",
   "metadata": {},
   "source": [
    "### Exercise 1\n",
    "\n",
    "Create a 4x4 matrix with values 1,2,3,4 in the diagonal"
   ]
  },
  {
   "cell_type": "markdown",
   "metadata": {},
   "source": [
    "### Exercise 2\n",
    "\n",
    "RGB images are 3-D matrixes. We will deal with 3-D matrixes in future sessions. So first, create random 3 by 3 random matrix and create 3-D matrix with 3x3x3 matrix with values from 1 to 27 values and print created matrixes\n"
   ]
  },
  {
   "cell_type": "markdown",
   "metadata": {},
   "source": [
    "# 3) Indexing Matrixes\n",
    "\n",
    "Once we have a matrix we should be able to access particular element of part of matrix (similar to lists, we extracted value at particular index from a list)\n",
    "\n",
    "In case of matrixes also, we use indexes to extract values from a matrix. It's similar to Sub-setting a Image in Remote Sensing context"
   ]
  },
  {
   "cell_type": "code",
   "execution_count": 33,
   "metadata": {},
   "outputs": [
    {
     "name": "stdout",
     "output_type": "stream",
     "text": [
      "[[ 1  2  3  4]\n",
      " [ 5  6  7  8]\n",
      " [ 9 10 11 12]\n",
      " [13 14 15 16]]\n",
      "\n",
      "---------------------\n",
      "\n",
      "1\n",
      "15\n",
      "\n",
      "---------------------\n",
      "\n",
      "[[ 1  2  3]\n",
      " [ 5  6  7]\n",
      " [ 9 10 11]]\n",
      "[5 6 7 8]\n",
      "[[ 5  6  7  8]\n",
      " [ 9 10 11 12]]\n",
      "[[ 9 10 11 12]\n",
      " [13 14 15 16]]\n",
      "[[1 2 3 4]\n",
      " [5 6 7 8]]\n"
     ]
    }
   ],
   "source": [
    "my_matrix = np.array([[1,2,3,4],[5,6,7,8],[9,10,11,12],[13,14,15,16]])\n",
    "\n",
    "print(my_matrix)\n",
    "\n",
    "print('\\n---------------------\\n')\n",
    "\n",
    "'''access only one value'''\n",
    "\n",
    "print(my_matrix[0,0])\n",
    "print(my_matrix[3,2])\n",
    "\n",
    "print('\\n---------------------\\n')\n",
    "\n",
    "'''access part of matrix'''\n",
    "\n",
    "print(my_matrix[0:3,0:3])\n",
    "print(my_matrix[1,:])\n",
    "print(my_matrix[1:3,:])\n",
    "print(my_matrix[2:,:])\n",
    "print(my_matrix[:2,:])"
   ]
  },
  {
   "cell_type": "markdown",
   "metadata": {},
   "source": [
    "### Exercise 3\n",
    "\n",
    "Create a 4x4 matrix with values 1,2,3,4 in the diagonal and remove first , last columns and remove first , last rows and print final 2x2 matrix"
   ]
  },
  {
   "cell_type": "markdown",
   "metadata": {},
   "source": [
    "# 4) Math Operations with Matrixes\n",
    "\n",
    "Like numbers, we can perform mathematics operations with matrixes like Adding, Subtraction, Multiplication.. etc\n",
    "\n",
    "Usually in matrixes operations perform in element-wise manner"
   ]
  },
  {
   "cell_type": "code",
   "execution_count": 9,
   "metadata": {},
   "outputs": [
    {
     "name": "stdout",
     "output_type": "stream",
     "text": [
      "[[1 2 3]\n",
      " [4 5 6]]\n",
      "[[1 1 1]\n",
      " [2 2 2]]\n",
      "\n",
      "---------------------\n",
      "\n",
      "[[0.1 0.2 0.3]\n",
      " [0.4 0.5 0.6]]\n",
      "[[11 12 13]\n",
      " [14 15 16]]\n",
      "[[0.1 0.2 0.3]\n",
      " [0.4 0.5 0.6]]\n",
      "\n",
      "---------------------\n",
      "\n",
      "[[2 3 4]\n",
      " [6 7 8]]\n",
      "[[ 1  2  3]\n",
      " [ 8 10 12]]\n",
      "\n",
      "---------------------\n",
      "\n",
      "[[1.         1.41421356 1.73205081]\n",
      " [2.         2.23606798 2.44948974]]\n",
      "[[  2.71828183   7.3890561   20.08553692]\n",
      " [ 54.59815003 148.4131591  403.42879349]]\n"
     ]
    }
   ],
   "source": [
    "x = np.array([[1, 2, 3], [4, 5, 6]])\n",
    "y = np.array([[1, 1, 1], [2, 2, 2]])\n",
    "\n",
    "print(x)\n",
    "print(y)\n",
    "\n",
    "print('\\n---------------------\\n')\n",
    "\n",
    "'''operatins with scalers'''\n",
    "\n",
    "print(x * 0.1)\n",
    "print(x + 10)\n",
    "print(x / 10)\n",
    "\n",
    "\n",
    "print('\\n---------------------\\n')\n",
    "\n",
    "'''operatins between matrixes'''\n",
    "\n",
    "print(x + y)\n",
    "print(x * y)\n",
    "\n",
    "print('\\n---------------------\\n')\n",
    "\n",
    "'''we can use numpy fuctions to do advance element-wise operations on matrix'''\n",
    "\n",
    "print(np.sqrt(x))\n",
    "print(np.exp(x))"
   ]
  },
  {
   "cell_type": "markdown",
   "metadata": {},
   "source": [
    "### Exercise 4\n",
    "\n",
    "Create any 4by4 Matrix with decimal values and create and print matrix with rounded values of original matrix"
   ]
  },
  {
   "cell_type": "markdown",
   "metadata": {},
   "source": [
    "### Exercise 5\n",
    "\n",
    "Create any 4by4 Matrix and Calculate x^2+2x+1 for each element of the matrix"
   ]
  },
  {
   "cell_type": "markdown",
   "metadata": {},
   "source": [
    "### Exercise 6\n",
    "\n",
    "Create any 2 4by4 Matrix and Calculate (matrix 2 - matrix 1) / (matrix 2 + matrix 1) for each element of the matrix"
   ]
  },
  {
   "cell_type": "markdown",
   "metadata": {},
   "source": [
    "# 5) Get Statistics of Matrixes\n",
    "\n",
    "Now we can create, index, perform operations with matrixes. And there are another easy set of functions that allow us to calculate statistics parameters such as sum, mean, max, min, etc. of a matrix"
   ]
  },
  {
   "cell_type": "code",
   "execution_count": 36,
   "metadata": {},
   "outputs": [
    {
     "name": "stdout",
     "output_type": "stream",
     "text": [
      "[[ 1  2  3  4]\n",
      " [ 5  6  7  8]\n",
      " [ 9 10 11 12]\n",
      " [13 14 15 16]]\n",
      "\n",
      "---------------------\n",
      "\n",
      "136\n",
      "8.5\n",
      "16\n",
      "1\n"
     ]
    }
   ],
   "source": [
    "my_matrix = np.array([[1,2,3,4],[5,6,7,8],[9,10,11,12],[13,14,15,16]])\n",
    "\n",
    "print(my_matrix)\n",
    "\n",
    "print('\\n---------------------\\n')\n",
    "\n",
    "print(np.sum(my_matrix))\n",
    "print(np.mean(my_matrix))\n",
    "print(np.max(my_matrix))\n",
    "print(np.min(my_matrix))"
   ]
  },
  {
   "cell_type": "markdown",
   "metadata": {},
   "source": [
    "In above examples, we calculate statistics for whole matrix. furthermore we can specify particular direction that we can calculate statistics.\n",
    "\n",
    "In this example, we calculate statistics vertically and horizontally"
   ]
  },
  {
   "cell_type": "code",
   "execution_count": 37,
   "metadata": {},
   "outputs": [
    {
     "name": "stdout",
     "output_type": "stream",
     "text": [
      "[[ 1  2  3  4]\n",
      " [ 5  6  7  8]\n",
      " [ 9 10 11 12]\n",
      " [13 14 15 16]]\n",
      "\n",
      "---------------------\n",
      "\n",
      "[28 32 36 40]\n",
      "[10 26 42 58]\n"
     ]
    }
   ],
   "source": [
    "my_matrix = np.array([[1,2,3,4],[5,6,7,8],[9,10,11,12],[13,14,15,16]])\n",
    "\n",
    "print(my_matrix)\n",
    "\n",
    "print('\\n---------------------\\n')\n",
    "\n",
    "print(np.sum(my_matrix, axis=0))\n",
    "print(np.sum(my_matrix, axis=1))"
   ]
  },
  {
   "cell_type": "markdown",
   "metadata": {},
   "source": [
    "Another important parameter of matrix is unique values in matrix. \n",
    "\n",
    "Let's imagine, if someone has given us classified satellite image. so we want to know, what are the class value and home many of them are there. this this case, we have to first find unique values in given image (matrix)\n"
   ]
  },
  {
   "cell_type": "code",
   "execution_count": 38,
   "metadata": {},
   "outputs": [
    {
     "data": {
      "text/plain": [
       "array([1, 2, 3, 4])"
      ]
     },
     "execution_count": 38,
     "metadata": {},
     "output_type": "execute_result"
    }
   ],
   "source": [
    "my_matrix = np.array([3, 3, 3, 2, 2, 1, 1, 4, 4])\n",
    "np.unique(my_matrix)"
   ]
  },
  {
   "cell_type": "markdown",
   "metadata": {},
   "source": [
    "### Exercise 7\n",
    "\n",
    "Create a 10x10 array with random values and find the minimum and maximum values"
   ]
  },
  {
   "cell_type": "markdown",
   "metadata": {},
   "source": [
    "### Exercise 8\n",
    "\n",
    "Create any 4by4 Matrix containing duplicates and print all unique values of that matrix and print number of unique values of the matrix"
   ]
  },
  {
   "cell_type": "markdown",
   "metadata": {},
   "source": [
    "### Exercise 9\n",
    "\n",
    "create matrix with 100 rows and 2 columns with random value, can calculate and print mean, standard deviation in each column"
   ]
  },
  {
   "cell_type": "markdown",
   "metadata": {},
   "source": [
    "### Exercise 10\n",
    "\n",
    "create 3-D matrix with 3x3x3 matrix with values from 1 to 27 values and print created matrixes. and calculate sum, mean, max, min in all 3 dimensions"
   ]
  },
  {
   "cell_type": "code",
   "execution_count": null,
   "metadata": {},
   "outputs": [],
   "source": []
  }
 ],
 "metadata": {
  "kernelspec": {
   "display_name": "Python 3",
   "language": "python",
   "name": "python3"
  },
  "language_info": {
   "codemirror_mode": {
    "name": "ipython",
    "version": 3
   },
   "file_extension": ".py",
   "mimetype": "text/x-python",
   "name": "python",
   "nbconvert_exporter": "python",
   "pygments_lexer": "ipython3",
   "version": "3.5.2"
  }
 },
 "nbformat": 4,
 "nbformat_minor": 2
}
