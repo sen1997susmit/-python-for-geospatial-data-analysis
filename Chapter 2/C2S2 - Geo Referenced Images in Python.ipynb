{
 "cells": [
  {
   "cell_type": "markdown",
   "metadata": {},
   "source": [
    "# Chapter 2 - Session 2\n",
    "# Geo Referenced Images in Python\n",
    "\n",
    "## Objectives\n",
    "#### learn how to use python library call GDAL which is dedicated to geo referenced images handling and related function \n",
    "\n",
    "## Content\n",
    "#### 1) Installation and Importing GDAL Library\n",
    "#### 2) Reading Images using GDAL library\n",
    "#### 3) Writing Images using GDAL library\n",
    "#### 4) Working with folders (multiple file)\n"
   ]
  },
  {
   "cell_type": "markdown",
   "metadata": {},
   "source": [
    "<hr>"
   ]
  },
  {
   "cell_type": "markdown",
   "metadata": {},
   "source": [
    "In last exercise, we learn how to deal in matrixes in python. the missing link is, how to bring raster image such as GeoTIFF file to our python workspace as NumPy matrix. that we can use for further analysis. This Gap is filled by another library call GDAL.\n",
    "\n",
    "GDAL (Geospatial Data Abstraction Library) is a computer software library for reading and writing raster and vector geospatial data formats. \n",
    "\n",
    "In this exercise, we will use GDAL library to read geo referenced TIFF image (GeoTIFF) to our python workspace as a NumPy matrix and run some operations on it\n",
    "\n",
    "Eventhough, we use only GeoTIFF images for this exercise, GDAL library supports 100s of raster data formats. some of them are as follows\n",
    "\n",
    "    TIFF\n",
    "    JPEG, JPEG2000, PNG, GIF\n",
    "    ArcInfo grids, Imagine\n",
    "    ENVI, GRASS\n",
    "    HDF4, HDF5\n",
    "    and many more"
   ]
  },
  {
   "cell_type": "markdown",
   "metadata": {},
   "source": [
    "# 1) Installation and Importing GDAL Library\n",
    "\n",
    "First we have to install GDAL to the Python using pip3 command as below. with NumPy library we directly install from internet using pip3. but in case of GDAL version compatibility is sensitive. So first, we download the GDAL library and then install it using pip3 command\n",
    "\n",
    "most of python libraries including GDAL can be downloaded from this link.\n",
    "\n",
    "    https://www.lfd.uci.edu/~gohlke/pythonlibs/\n",
    "    \n",
    "now we go to GDAL section\n",
    "\n",
    "    https://www.lfd.uci.edu/~gohlke/pythonlibs/#gdal\n",
    "    \n",
    "then download GDAL version which is compatible with python version and OS (32bit or 64bit)\n",
    "\n",
    "since we are using python 3.6 and\n",
    "\n",
    "if you have windows 64 bit OS, first download \"GDAL‑2.3.3‑cp36‑cp36m‑win_amd64.whl\" file, navigate to downloaded directory and install using pip3\n",
    "    \n",
    "    pip3 install GDAL‑2.3.3‑cp36‑cp36m‑win_amd64.wh\n",
    "    \n",
    "if you have windows 32 bit OS, first download \"GDAL‑2.3.3‑cp36‑cp36m‑win32.whl\" file, navigate to downloaded directory and install using pip3\n",
    "    \n",
    "    pip3 install GDAL‑2.3.3‑cp36‑cp36m‑win32.whl\n",
    "\n",
    "or if you use Anaconda, you can use, Anaconda Navigator to install GDAL library\n",
    "\n",
    "then we can import and access various functions from GDAL library to our python work space"
   ]
  },
  {
   "cell_type": "code",
   "execution_count": 1,
   "metadata": {},
   "outputs": [],
   "source": [
    "'''import gdal and numpy library'''\n",
    "\n",
    "import gdal\n",
    "import numpy as np"
   ]
  },
  {
   "cell_type": "markdown",
   "metadata": {},
   "source": [
    "# 1) Reading Images using GDAL library\n",
    "\n",
    "In this example, we will read sample SRTM digital elevation data (DEM data) from USGS as GeoTIFF file which is most common geo referenced image file format"
   ]
  },
  {
   "cell_type": "code",
   "execution_count": 2,
   "metadata": {},
   "outputs": [
    {
     "name": "stdout",
     "output_type": "stream",
     "text": [
      "3001\n",
      "3001\n",
      "1\n",
      "\n",
      "---------------------\n",
      "\n",
      "GEOGCS[\"WGS 84\",DATUM[\"WGS_1984\",SPHEROID[\"WGS 84\",6378137,298.257223563,AUTHORITY[\"EPSG\",\"7030\"]],AUTHORITY[\"EPSG\",\"6326\"]],PRIMEM[\"Greenwich\",0],UNIT[\"degree\",0.0174532925199433],AUTHORITY[\"EPSG\",\"4326\"]]\n",
      "\n",
      "---------------------\n",
      "\n",
      "(99.99958357546711, 0.000833333333333, 0.0, 25.00041712672993, 0.0, -0.000833333333333)\n",
      "\n",
      "---------------------\n",
      "\n"
     ]
    }
   ],
   "source": [
    "'''now we can read a tiff file and get information about the image'''\n",
    "\n",
    "img = gdal.Open('.//data//srtm_57_08_1.tif')\n",
    "\n",
    "print(img.RasterXSize)\n",
    "print(img.RasterYSize)\n",
    "print(img.RasterCount)\n",
    "\n",
    "print('\\n---------------------\\n')\n",
    "\n",
    "print(img.GetProjection())\n",
    "\n",
    "print('\\n---------------------\\n')\n",
    "\n",
    "print(img.GetGeoTransform())\n",
    "\n",
    "print('\\n---------------------\\n')\n"
   ]
  },
  {
   "cell_type": "markdown",
   "metadata": {},
   "source": [
    "Note that, srtm_img.GetGeoTransform() contains 5 values, which are corresponding to geopraphic cordinates of image\n",
    "\n",
    "    [0] : top left x\n",
    "    [1] : w-e pixel resolution\n",
    "    [2] : rotation, 0 if image is \"north up\"\n",
    "    [3] : top left y\n",
    "    [4] : rotation, 0 if image is \"north up\"\n",
    "    [5] : n-s pixel resolution"
   ]
  },
  {
   "cell_type": "code",
   "execution_count": 3,
   "metadata": {},
   "outputs": [
    {
     "name": "stdout",
     "output_type": "stream",
     "text": [
      "-32768.0\n"
     ]
    }
   ],
   "source": [
    "'''read band from imported image and band information'''\n",
    "\n",
    "band = img.GetRasterBand(1) #index starts from 1\n",
    "\n",
    "print(band.GetNoDataValue())"
   ]
  },
  {
   "cell_type": "code",
   "execution_count": 4,
   "metadata": {},
   "outputs": [],
   "source": [
    "'''from band, we can read our data as numpy matrix that can be used for further analysis'''\n",
    "\n",
    "mat_srtm = band.ReadAsArray(0, 0, img.RasterXSize, img.RasterYSize)"
   ]
  },
  {
   "cell_type": "markdown",
   "metadata": {},
   "source": [
    "When we are reading data to a NumPy matrix, we pass 4 parameters to, which are corresponding to size of data chunk that we are reading\n",
    "\n",
    "    ReadAsArray(<xoff>, <yoff>, <xsize>, <ysize>)\n",
    "    \n",
    "    xoff : starting image x cordinate\n",
    "    yoff : starting image y cordinate\n",
    "    xsize : width\n",
    "    ysize : height"
   ]
  },
  {
   "cell_type": "code",
   "execution_count": 5,
   "metadata": {},
   "outputs": [
    {
     "name": "stdout",
     "output_type": "stream",
     "text": [
      "<class 'numpy.ndarray'>\n",
      "int16\n",
      "(3001, 3001)\n",
      "\n",
      "---------------------\n",
      "\n",
      "3411\n",
      "-32768\n"
     ]
    }
   ],
   "source": [
    "'''get information about matrix'''\n",
    "\n",
    "print(type(mat_srtm))\n",
    "print(mat_srtm.dtype)\n",
    "print(mat_srtm.shape)\n",
    "\n",
    "print('\\n---------------------\\n')\n",
    "\n",
    "print(np.max(mat_srtm))\n",
    "print(np.min(mat_srtm))"
   ]
  },
  {
   "cell_type": "markdown",
   "metadata": {},
   "source": [
    "### Putting all together, how to read image to a NumPy matrix which we can be used for analysis"
   ]
  },
  {
   "cell_type": "code",
   "execution_count": 6,
   "metadata": {},
   "outputs": [],
   "source": [
    "#read image\n",
    "img = gdal.Open('.//data//srtm_57_08_1.tif') \n",
    "\n",
    "# get band\n",
    "band = img.GetRasterBand(1) \n",
    "\n",
    "#get numpy matrix\n",
    "mat_srtm = band.ReadAsArray(0, 0, img.RasterXSize, img.RasterYSize) "
   ]
  },
  {
   "cell_type": "markdown",
   "metadata": {},
   "source": [
    "# 3) Writing Images using GDAL library\n",
    "\n"
   ]
  },
  {
   "cell_type": "code",
   "execution_count": 8,
   "metadata": {},
   "outputs": [],
   "source": [
    "'''lets read the image again as a numpy file'''\n",
    "\n",
    "img = gdal.Open('.//data//srtm_57_08_1.tif')\n",
    "band = img.GetRasterBand(1)\n",
    "mat_srtm = band.ReadAsArray(0, 0, 3001, 3001)\n",
    "\n",
    "'''writing image to a file'''\n",
    "\n",
    "# allocating space in hard drive\n",
    "driver = gdal.GetDriverByName(\"GTiff\")\n",
    "outdata = driver.Create('out.tif', 3001, 3001, 1, gdal.GDT_UInt16)\n",
    "\n",
    "# set image paramenters (imfrormation related to cordinates)\n",
    "outdata.SetGeoTransform(img.GetGeoTransform())\n",
    "outdata.SetProjection(img.GetProjection())\n",
    "\n",
    "# write numpy matrix as new band and set no data value for the band\n",
    "outdata.GetRasterBand(1).WriteArray(mat_srtm)\n",
    "outdata.GetRasterBand(1).SetNoDataValue(band.GetNoDataValue())\n",
    "\n",
    "# flush data from memory to harddrive \n",
    "outdata.FlushCache()\n",
    "outdata=None"
   ]
  },
  {
   "cell_type": "markdown",
   "metadata": {},
   "source": [
    "GDAL also have their own data type like NumPy, so we have to provide data type, when image is created. commonly used data type are as follows\n",
    "\n",
    "    GDT_Unknown - Unknown or unspecified type\n",
    "    GDT_Byte - Eight bit unsigned integer\n",
    "    GDT_UInt16 - Sixteen bit unsigned integer\n",
    "    GDT_Int16 - Sixteen bit signed integer\n",
    "    GDT_UInt32 - Thirty two bit unsigned integer\n",
    "    GDT_Int32 - Thirty two bit signed integer\n",
    "    GDT_Float32 - Thirty two bit floating point\n",
    "    GDT_Float64 - Sixty four bit floating point\n",
    "    \n",
    "in this case, we use GDT_UInt16 as our data type"
   ]
  },
  {
   "cell_type": "markdown",
   "metadata": {},
   "source": [
    "### Exercise 1\n",
    "\n",
    "Read \".//srtm//srtm_57_08_1.tif\" image again and add 10.5 to image and write as float image"
   ]
  },
  {
   "cell_type": "markdown",
   "metadata": {},
   "source": [
    "### Exercise 2\n",
    "\n",
    "Read \".//srtm//srtm_57_08_1.tif\" image again and convert pixel values units to Km and write back as float image (original image's pixel values unit were meters)"
   ]
  },
  {
   "cell_type": "markdown",
   "metadata": {},
   "source": [
    "# 2) Working with folders (multiple file)\n",
    "\n",
    "We can read all files path in a directory to a path list using \"glob\" library in python\n",
    "\n",
    "Then we can use our knowledge of for loop go through each item in the list and perform operations for each image in the folder\n",
    "\n",
    "This way, we can deal with any number of images. This is really helpful when we are automating process for large number of images"
   ]
  },
  {
   "cell_type": "code",
   "execution_count": 10,
   "metadata": {},
   "outputs": [
    {
     "name": "stdout",
     "output_type": "stream",
     "text": [
      "['.\\\\data\\\\MODIS_18Dec17_NIR.tif', '.\\\\data\\\\MODIS_18Dec17_RED.tif', '.\\\\data\\\\MODIS_18Nov02_NIR.tif', '.\\\\data\\\\MODIS_18Nov02_RED.tif', '.\\\\data\\\\srtm_57_08_1.tif']\n"
     ]
    }
   ],
   "source": [
    "import glob\n",
    "\n",
    "fList = glob.glob(\".\\data\\*.tif\")\n",
    "print(fList)"
   ]
  },
  {
   "cell_type": "code",
   "execution_count": 11,
   "metadata": {},
   "outputs": [
    {
     "name": "stdout",
     "output_type": "stream",
     "text": [
      ".\\data\\MODIS_18Dec17_NIR.tif\n",
      ".\\data\\MODIS_18Dec17_RED.tif\n",
      ".\\data\\MODIS_18Nov02_NIR.tif\n",
      ".\\data\\MODIS_18Nov02_RED.tif\n",
      ".\\data\\srtm_57_08_1.tif\n"
     ]
    }
   ],
   "source": [
    "# create count variable to keep track of which file we are accessing\n",
    "count = 0\n",
    "\n",
    "#for loop to go through each image file\n",
    "for fName in fList:\n",
    "    print(fName)\n",
    "    \n",
    "    #Read Images\n",
    "    img = gdal.Open('.//data//srtm_57_08_1.tif')\n",
    "    band = img.GetRasterBand(1)\n",
    "    mat_srtm = band.ReadAsArray(0, 0, 3001, 3001)\n",
    "\n",
    "    #Making output file name\n",
    "    output_file_name = 'out' + str(count) + '.tif'\n",
    "    count = count + 1\n",
    "    \n",
    "    #Write Images\n",
    "    driver = gdal.GetDriverByName(\"GTiff\")\n",
    "    outdata = driver.Create(output_file_name, 3001, 3001, 1, gdal.GDT_UInt16)\n",
    "    outdata.SetGeoTransform(img.GetGeoTransform())\n",
    "    outdata.SetProjection(img.GetProjection())\n",
    "    outdata.GetRasterBand(1).WriteArray(mat_srtm)\n",
    "    outdata.GetRasterBand(1).SetNoDataValue(band.GetNoDataValue())\n",
    "    outdata.FlushCache()\n",
    "    outdata=None"
   ]
  },
  {
   "cell_type": "markdown",
   "metadata": {},
   "source": [
    "### Exercise 3\n",
    "\n",
    "Read all images in \"srtm folder\" and add 10.5 to image and write as float image"
   ]
  },
  {
   "cell_type": "markdown",
   "metadata": {},
   "source": [
    "### Exercise 4\n",
    "\n",
    "Read all images in \"srtm folder\" and convert their units to Km from meters and write as separate file"
   ]
  },
  {
   "cell_type": "code",
   "execution_count": null,
   "metadata": {},
   "outputs": [],
   "source": []
  }
 ],
 "metadata": {
  "kernelspec": {
   "display_name": "Python 3",
   "language": "python",
   "name": "python3"
  },
  "language_info": {
   "codemirror_mode": {
    "name": "ipython",
    "version": 3
   },
   "file_extension": ".py",
   "mimetype": "text/x-python",
   "name": "python",
   "nbconvert_exporter": "python",
   "pygments_lexer": "ipython3",
   "version": "3.5.2"
  }
 },
 "nbformat": 4,
 "nbformat_minor": 2
}
